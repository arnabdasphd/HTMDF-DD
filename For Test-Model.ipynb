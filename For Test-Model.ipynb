{
  "cells": [
    {
      "cell_type": "code",
      "execution_count": null,
      "id": "70c7d16b-e127-4a7a-9b4d-3a3b40946426",
      "metadata": {
        "id": "70c7d16b-e127-4a7a-9b4d-3a3b40946426"
      },
      "outputs": [],
      "source": [
        "import csv\n",
        "import pandas as pd\n",
        "import torch\n",
        "from torch.utils.data import DataLoader, TensorDataset\n",
        "from transformers import BertTokenizer, BertForSequenceClassification, AdamW\n",
        "from sklearn.model_selection import train_test_split\n",
        "from tqdm import tqdm\n",
        "import matplotlib.pyplot as plt\n"
      ]
    },
    {
      "cell_type": "code",
      "execution_count": null,
      "id": "85524849-3308-41e4-a9c3-57a1bc6e2f3d",
      "metadata": {
        "id": "85524849-3308-41e4-a9c3-57a1bc6e2f3d"
      },
      "outputs": [],
      "source": [
        "file_path = r\"C:\\Users\\shuvo\\TEXT FILE\\AUGMENTED_2_texts_with_labels.csv\"\n",
        "data = pd.read_csv(file_path)\n",
        "#data['class'] = data['class'].apply(lambda x: 1 if x == 'suicide' else 0)\n",
        "#data = data.drop(data.columns[0], axis=1)\n",
        "#data = data.head(500)\n"
      ]
    },
    {
      "cell_type": "code",
      "execution_count": null,
      "id": "a4a2d905-e6ce-4a10-a819-f0e3aa5af393",
      "metadata": {
        "id": "a4a2d905-e6ce-4a10-a819-f0e3aa5af393"
      },
      "outputs": [],
      "source": [
        "print(data)"
      ]
    },
    {
      "cell_type": "code",
      "execution_count": null,
      "id": "526b6eed-86e2-4125-a46a-f66a0efb0d0a",
      "metadata": {
        "id": "526b6eed-86e2-4125-a46a-f66a0efb0d0a"
      },
      "outputs": [],
      "source": [
        "X_train, X_test, y_train, y_test = train_test_split(data['text'], data['label'], test_size=0.2, random_state=42)"
      ]
    },
    {
      "cell_type": "code",
      "execution_count": null,
      "id": "9662128e-e5e7-47d1-acbe-84569efa5e9f",
      "metadata": {
        "id": "9662128e-e5e7-47d1-acbe-84569efa5e9f",
        "outputId": "3b9e8df5-b04b-4d6b-b088-1faaa9b5b0b6"
      },
      "outputs": [
        {
          "name": "stderr",
          "output_type": "stream",
          "text": [
            "Truncation was not explicitly activated but `max_length` is provided a specific value, please use `truncation=True` to explicitly truncate examples to max length. Defaulting to 'longest_first' truncation strategy. If you encode pairs of sequences (GLUE-style) with the tokenizer you can select this strategy more precisely by providing a specific strategy to `truncation`.\n",
            "C:\\Users\\shuvo\\anaconda3\\envs\\NEW_GPU\\lib\\site-packages\\transformers\\tokenization_utils_base.py:2688: FutureWarning: The `pad_to_max_length` argument is deprecated and will be removed in a future version, use `padding=True` or `padding='longest'` to pad to the longest sequence in the batch, or use `padding='max_length'` to pad to a max length. In this case, you can give a specific length with `max_length` (e.g. `max_length=45`) or leave max_length to None to pad to the maximal input size of the model (e.g. 512 for Bert).\n",
            "  warnings.warn(\n"
          ]
        }
      ],
      "source": [
        "tokenizer = BertTokenizer.from_pretrained(\"bert-base-uncased\")\n",
        "\n",
        "train_encoded = tokenizer.batch_encode_plus(\n",
        "    X_train.tolist(),\n",
        "    add_special_tokens=True,\n",
        "    return_attention_mask=True,\n",
        "    pad_to_max_length=True,\n",
        "    max_length=128,\n",
        "    return_tensors='pt'\n",
        ")\n",
        "\n",
        "test_encoded = tokenizer.batch_encode_plus(\n",
        "    X_test.tolist(),\n",
        "    add_special_tokens=True,\n",
        "    return_attention_mask=True,\n",
        "    pad_to_max_length=True,\n",
        "    max_length=128,\n",
        "    return_tensors='pt'\n",
        ")"
      ]
    },
    {
      "cell_type": "code",
      "execution_count": null,
      "id": "5f08385e-a924-4790-8b4a-ed78b5860eda",
      "metadata": {
        "id": "5f08385e-a924-4790-8b4a-ed78b5860eda"
      },
      "outputs": [],
      "source": [
        "train_inputs = train_encoded['input_ids']\n",
        "train_masks = train_encoded['attention_mask']\n",
        "train_labels = torch.tensor(y_train.values)\n",
        "\n",
        "test_inputs = test_encoded['input_ids']\n",
        "test_masks = test_encoded['attention_mask']\n",
        "test_labels = torch.tensor(y_test.values)\n",
        "\n",
        "train_data = TensorDataset(train_inputs, train_masks, train_labels)\n",
        "train_dataloader = DataLoader(train_data, batch_size=32, shuffle=True)\n",
        "\n",
        "test_data = TensorDataset(test_inputs, test_masks, test_labels)\n",
        "test_dataloader = DataLoader(test_data, batch_size=32, shuffle=False)\n"
      ]
    },
    {
      "cell_type": "code",
      "execution_count": null,
      "id": "6f1feb6b-d735-4c67-b1d6-93a698993ef4",
      "metadata": {
        "id": "6f1feb6b-d735-4c67-b1d6-93a698993ef4",
        "outputId": "1f5b5c6b-c362-4bbb-a018-8ed0e09c7afa"
      },
      "outputs": [
        {
          "name": "stderr",
          "output_type": "stream",
          "text": [
            "Some weights of BertForSequenceClassification were not initialized from the model checkpoint at bert-base-uncased and are newly initialized: ['classifier.bias', 'classifier.weight']\n",
            "You should probably TRAIN this model on a down-stream task to be able to use it for predictions and inference.\n",
            "C:\\Users\\shuvo\\anaconda3\\envs\\NEW_GPU\\lib\\site-packages\\transformers\\optimization.py:457: FutureWarning: This implementation of AdamW is deprecated and will be removed in a future version. Use the PyTorch implementation torch.optim.AdamW instead, or set `no_deprecation_warning=True` to disable this warning\n",
            "  warnings.warn(\n"
          ]
        }
      ],
      "source": [
        "device = torch.device(\"cuda\" if torch.cuda.is_available() else \"cpu\")\n",
        "model = BertForSequenceClassification.from_pretrained(\"bert-base-uncased\", num_labels=2).to(device)\n",
        "optimizer = AdamW(model.parameters(), lr=2e-5)\n"
      ]
    },
    {
      "cell_type": "code",
      "execution_count": null,
      "id": "3afca855-69d5-4c0c-8ea8-c0c99a5ca17d",
      "metadata": {
        "id": "3afca855-69d5-4c0c-8ea8-c0c99a5ca17d"
      },
      "outputs": [],
      "source": [
        "def evaluate(model, dataloader):\n",
        "    model.eval()\n",
        "    total_loss = 0\n",
        "    correct_predictions = 0\n",
        "    total_predictions = 0\n",
        "\n",
        "    with torch.no_grad():\n",
        "        for batch in dataloader:\n",
        "            batch = tuple(t.to(device) for t in batch)\n",
        "            inputs = {'input_ids': batch[0], 'attention_mask': batch[1], 'labels': batch[2]}\n",
        "\n",
        "            outputs = model(**inputs)\n",
        "            loss = outputs.loss\n",
        "            total_loss += loss.item()\n",
        "\n",
        "            logits = outputs.logits\n",
        "            _, predicted_labels = torch.max(logits, 1)\n",
        "            correct_predictions += torch.sum(predicted_labels == inputs['labels']).item()\n",
        "            total_predictions += inputs['labels'].size(0)\n",
        "\n",
        "    avg_loss = total_loss / len(dataloader)\n",
        "    accuracy = correct_predictions / total_predictions\n",
        "    return avg_loss, accuracy\n",
        "\n",
        "# Training loop\n",
        "num_epochs = 30\n",
        "train_losses, val_losses = [], []\n",
        "train_accuracies, val_accuracies = [], []\n",
        "\n",
        "for epoch in range(num_epochs):\n",
        "    model.train()\n",
        "    total_loss, correct_train_predictions, total_train_predictions = 0, 0, 0\n",
        "\n",
        "    for batch in tqdm(train_dataloader, desc=f\"Epoch {epoch+1}/{num_epochs}\", leave=False):\n",
        "        optimizer.zero_grad()\n",
        "\n",
        "        # Unpack the batch\n",
        "        input_ids, attention_mask, labels = batch\n",
        "        input_ids, attention_mask, labels = input_ids.to(device), attention_mask.to(device), labels.to(device)\n",
        "\n",
        "        outputs = model(input_ids=input_ids, attention_mask=attention_mask, labels=labels)\n",
        "        loss = outputs.loss\n",
        "        loss.backward()\n",
        "        optimizer.step()\n",
        "\n",
        "        total_loss += loss.item()\n",
        "        _, predicted_labels = torch.max(outputs.logits, 1)\n",
        "        correct_train_predictions += torch.sum(predicted_labels == labels).item()\n",
        "        total_train_predictions += labels.size(0)\n",
        "\n",
        "    avg_train_loss = total_loss / len(train_dataloader)\n",
        "    train_accuracy = correct_train_predictions / total_train_predictions\n",
        "\n",
        "    train_losses.append(avg_train_loss)\n",
        "    train_accuracies.append(train_accuracy)\n",
        "\n",
        "    # Validation\n",
        "    val_loss, val_accuracy = evaluate(model, test_dataloader)\n",
        "    val_losses.append(val_loss)\n",
        "    val_accuracies.append(val_accuracy)\n",
        "\n",
        "    print(f\"Epoch {epoch+1}/{num_epochs}\")\n",
        "    print(f\"Train Loss: {avg_train_loss:.4f}, Train Accuracy: {train_accuracy:.4f}\")\n",
        "    print(f\"Val Loss: {val_loss:.4f}, Val Accuracy: {val_accuracy:.4f}\")\n"
      ]
    },
    {
      "cell_type": "code",
      "execution_count": null,
      "id": "61e5654f-0c1b-4326-9cc4-c804e78bb39b",
      "metadata": {
        "id": "61e5654f-0c1b-4326-9cc4-c804e78bb39b"
      },
      "outputs": [],
      "source": [
        "import matplotlib.pyplot as plt\n",
        "\n",
        "# Create subplots\n",
        "fig, axes = plt.subplots(1, 2, figsize=(15, 5))\n",
        "\n",
        "# Plot training and validation losses\n",
        "axes[0].plot(train_losses, label='Training Loss', color='blue')\n",
        "axes[0].plot(val_losses, label='Validation Loss', color='orange')\n",
        "axes[0].set_xlabel('Epoch')\n",
        "axes[0].set_ylabel('Loss')\n",
        "axes[0].set_title('Training and Validation Losses')\n",
        "axes[0].legend()\n",
        "\n",
        "# Plot training and validation accuracies\n",
        "axes[1].plot(train_accuracies, label='Training Accuracy', color='blue')\n",
        "axes[1].plot(val_accuracies, label='Validation Accuracy', color='orange')\n",
        "axes[1].set_xlabel('Epoch')\n",
        "axes[1].set_ylabel('Accuracy')\n",
        "axes[1].set_title('Training and Validation Accuracies')\n",
        "axes[1].legend()\n",
        "\n",
        "# Adjust layout\n",
        "plt.tight_layout()\n",
        "\n",
        "# Show plots\n",
        "plt.show()\n"
      ]
    },
    {
      "cell_type": "code",
      "execution_count": null,
      "id": "55c1e784-7356-4f37-8b7f-eded8f6afda1",
      "metadata": {
        "id": "55c1e784-7356-4f37-8b7f-eded8f6afda1"
      },
      "outputs": [],
      "source": [
        "import numpy as np\n",
        "import seaborn as sns\n",
        "from sklearn.metrics import confusion_matrix\n",
        "\n",
        "# Initialize lists to store true labels and predicted labels\n",
        "true_labels = []\n",
        "predicted_labels = []\n",
        "\n",
        "# Evaluate model on validation dataset and collect predictions\n",
        "model.eval()\n",
        "with torch.no_grad():\n",
        "    for batch in tqdm(test_dataloader, desc=\"Evaluating\"):\n",
        "        input_ids, attention_mask, labels = batch\n",
        "        input_ids, attention_mask, labels = input_ids.to(device), attention_mask.to(device), labels.to(device)\n",
        "        outputs = model(input_ids=input_ids, attention_mask=attention_mask)\n",
        "        _, predicted = torch.max(outputs.logits, 1)\n",
        "        true_labels.extend(labels.cpu().numpy())\n",
        "        predicted_labels.extend(predicted.cpu().numpy())\n",
        "\n",
        "# Compute confusion matrix\n",
        "conf_matrix = confusion_matrix(true_labels, predicted_labels)\n",
        "\n",
        "# Display confusion matrix\n",
        "plt.figure(figsize=(8, 6))\n",
        "sns.heatmap(conf_matrix, annot=True, fmt='d', cmap='Blues', xticklabels=['Original', 'Fake'], yticklabels=['Original', 'Fake'])\n",
        "plt.xlabel('Predicted')\n",
        "plt.ylabel('True')\n",
        "plt.title('Confusion Matrix')\n",
        "plt.show()\n"
      ]
    },
    {
      "cell_type": "code",
      "execution_count": null,
      "id": "ead36740-f328-4558-8de9-aa46c8662dc1",
      "metadata": {
        "id": "ead36740-f328-4558-8de9-aa46c8662dc1"
      },
      "outputs": [],
      "source": [
        "from sklearn.metrics import classification_report\n",
        "\n",
        "# Evaluate model on test data\n",
        "def predict(model, dataloader):\n",
        "    model.eval()\n",
        "    all_labels = []\n",
        "    all_predictions = []\n",
        "\n",
        "    with torch.no_grad():\n",
        "        for batch in dataloader:\n",
        "            batch = tuple(t.to(device) for t in batch)\n",
        "            inputs = {'input_ids': batch[0], 'attention_mask': batch[1]}\n",
        "            labels = batch[2]\n",
        "\n",
        "            outputs = model(**inputs)\n",
        "            logits = outputs.logits\n",
        "            _, predicted_labels = torch.max(logits, 1)\n",
        "\n",
        "            all_labels.extend(labels.cpu().numpy())\n",
        "            all_predictions.extend(predicted_labels.cpu().numpy())\n",
        "\n",
        "    return all_labels, all_predictions\n",
        "\n",
        "# Make predictions\n",
        "true_labels, predicted_labels = predict(model, test_dataloader)\n",
        "\n",
        "# Generate classification report\n",
        "report = classification_report(true_labels, predicted_labels, target_names=['Orginal_text', 'Fake_text'])\n",
        "print(report)\n",
        "\n",
        "\n"
      ]
    },
    {
      "cell_type": "code",
      "execution_count": null,
      "id": "d11e6966-845c-454b-a7f9-6e01c28eab29",
      "metadata": {
        "id": "d11e6966-845c-454b-a7f9-6e01c28eab29"
      },
      "outputs": [],
      "source": [
        "import numpy as np\n",
        "import matplotlib.pyplot as plt\n",
        "from sklearn.metrics import roc_curve, auc\n",
        "\n",
        "# Initialize lists to accumulate labels and predictions during validation\n",
        "all_val_labels = []\n",
        "all_val_predictions = []\n",
        "\n",
        "# Validation loop\n",
        "for batch in test_dataloader:\n",
        "    inputs = {'input_ids': batch[0].to(device),\n",
        "              'attention_mask': batch[1].to(device),\n",
        "              'labels': batch[2].to(device)}\n",
        "\n",
        "    with torch.no_grad():\n",
        "        outputs = model(**inputs)\n",
        "\n",
        "        logits = outputs.logits\n",
        "        predicted_probs = torch.softmax(logits, dim=1)\n",
        "\n",
        "        # Accumulate labels and predictions\n",
        "        all_val_labels.extend(inputs['labels'].tolist())\n",
        "        all_val_predictions.extend(predicted_probs[:, 1].tolist())  # Assuming binary classification, using probabilities of positive class\n",
        "\n",
        "# Compute ROC curve\n",
        "fpr, tpr, _ = roc_curve(all_val_labels, all_val_predictions)\n",
        "\n",
        "# Compute AUC score\n",
        "roc_auc = auc(fpr, tpr)\n",
        "\n",
        "# Plot ROC curve\n",
        "plt.figure()\n",
        "plt.plot(fpr, tpr, color='darkorange', lw=2, label=f'ROC curve (area = {roc_auc:.2f})')\n",
        "plt.plot([0, 1], [0, 1], color='navy', lw=2, linestyle='--')\n",
        "plt.xlim([0.0, 1.0])\n",
        "plt.ylim([0.0, 1.05])\n",
        "plt.xlabel('False Positive Rate')\n",
        "plt.ylabel('True Positive Rate')\n",
        "plt.title('Receiver Operating Characteristic (ROC) Curve')\n",
        "plt.legend(loc=\"lower right\")\n",
        "plt.show()\n"
      ]
    },
    {
      "cell_type": "code",
      "execution_count": null,
      "id": "ecd5a7fb-ea1b-4f30-806c-136cae35a8ef",
      "metadata": {
        "id": "ecd5a7fb-ea1b-4f30-806c-136cae35a8ef"
      },
      "outputs": [],
      "source": [
        "h5_path = r\"C:\\Users\\shuvo\\TEXT FILE\\model.h5\"\n",
        "torch.save(model.state_dict(), h5_path)"
      ]
    },
    {
      "cell_type": "code",
      "execution_count": null,
      "id": "2c8cda79-cbd8-414e-a586-91c6588256f4",
      "metadata": {
        "id": "2c8cda79-cbd8-414e-a586-91c6588256f4"
      },
      "outputs": [],
      "source": [
        "# Define the path to save the model\n",
        "save_path = r\"C:\\Users\\shuvo\\TEXT FILE\\model.pth\"\n",
        "\n",
        "# Save the model\n",
        "torch.save(model.state_dict(), save_path)"
      ]
    },
    {
      "cell_type": "code",
      "execution_count": null,
      "id": "a8f385e3-0108-45a9-a182-dfbd4ba32d6e",
      "metadata": {
        "id": "a8f385e3-0108-45a9-a182-dfbd4ba32d6e"
      },
      "outputs": [],
      "source": []
    }
  ],
  "metadata": {
    "kernelspec": {
      "display_name": "Python 3 (ipykernel)",
      "language": "python",
      "name": "python3"
    },
    "language_info": {
      "codemirror_mode": {
        "name": "ipython",
        "version": 3
      },
      "file_extension": ".py",
      "mimetype": "text/x-python",
      "name": "python",
      "nbconvert_exporter": "python",
      "pygments_lexer": "ipython3",
      "version": "3.12.7"
    },
    "colab": {
      "provenance": []
    }
  },
  "nbformat": 4,
  "nbformat_minor": 5
}